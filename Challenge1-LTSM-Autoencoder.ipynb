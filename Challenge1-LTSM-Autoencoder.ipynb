{
 "cells": [
  {
   "cell_type": "code",
   "execution_count": 45,
   "id": "baa5254a",
   "metadata": {},
   "outputs": [],
   "source": [
    "import torch\n",
    "import torch.nn as nn\n",
    "import torch.optim as optim\n",
    "import numpy as np\n",
    "import matplotlib.pyplot as plt\n",
    "from sklearn.preprocessing import StandardScaler\n",
    "from sklearn.metrics import  f1_score, precision_score, recall_score\n",
    "\n",
    "\n",
    "torch.manual_seed(42)\n",
    "np.random.seed(42)\n",
    "\n",
    "device = torch.device('cuda' if torch.cuda.is_available() else 'cpu')"
   ]
  },
  {
   "cell_type": "markdown",
   "id": "f1a0c7a3",
   "metadata": {},
   "source": [
    "## Generate Synthetic Emissions Data\n",
    "We generate synthetic time series data for emissions, including both normal and anomalous sequences. "
   ]
  },
  {
   "cell_type": "code",
   "execution_count": 46,
   "id": "d06f8f65",
   "metadata": {},
   "outputs": [],
   "source": [
    "def generate_emissions_data(n_samples=10000, sequence_length=24, n_features=5):\n",
    "    time_steps = np.linspace(0, 2*np.pi, sequence_length)\n",
    "    normal_data = []\n",
    "    anomaly_data = []\n",
    "    for i in range(n_samples):\n",
    "        sequence = np.zeros((sequence_length, n_features))\n",
    "        for feature in range(n_features):\n",
    "            #we are creating a complex pattern / non linear data to simulate real world emissions and get our model to learn better\n",
    "            base_pattern = (\n",
    "                np.sin(time_steps + feature * 0.5) * (2 + feature)\n",
    "                + np.cos(time_steps * (feature+1) * 0.7)\n",
    "                + 0.5 * np.exp(0.1 * time_steps)\n",
    "                + 0.2 * (np.sin(time_steps * 2 + feature) ** 2)\n",
    "            )\n",
    "            trend = np.log1p(np.linspace(1, 10, sequence_length)) * (feature + 1)\n",
    "            noise = np.random.normal(0, 1.0, sequence_length)\n",
    "            sequence[:, feature] = base_pattern + trend + noise + (feature + 1) * 10\n",
    "        if i < n_samples * 0.5: # 50% of the data will have anomalies\n",
    "            anomaly_type = np.random.choice(['spike', 'drift', 'noise', 'flat', 'regime'])\n",
    "            # spike means a sudden increase in value of a feature\n",
    "            # drift means a continous gradual increase in value of a feature\n",
    "            # noise means adding random noise/flactuations to a value of a feature\n",
    "            # flat means  the value of a feature is not chaning /constant\n",
    "            # regime means switch in behavior of a feature ( maybe the sensor has malfunctioned )\n",
    "            if anomaly_type == 'spike':\n",
    "                spike_pos = np.random.randint(5, sequence_length-5)\n",
    "                spike_feature = np.random.randint(0, n_features)\n",
    "                sequence[spike_pos:spike_pos+3, spike_feature] *= np.random.uniform(4, 8)\n",
    "            elif anomaly_type == 'drift':\n",
    "                drift_start = np.random.randint(0, sequence_length//2)\n",
    "                drift_feature = np.random.randint(0, n_features)\n",
    "                drift_values = np.cumsum(np.random.normal(0.5, 0.2, sequence_length - drift_start))\n",
    "                sequence[drift_start:, drift_feature] += drift_values\n",
    "            elif anomaly_type == 'noise':\n",
    "                noise_feature = np.random.randint(0, n_features)\n",
    "                sequence[:, noise_feature] += np.random.normal(0, 6, sequence_length)\n",
    "            elif anomaly_type == 'flat':\n",
    "                flat_feature = np.random.randint(0, n_features)\n",
    "                sequence[:, flat_feature] = np.mean(sequence[:, flat_feature])\n",
    "            elif anomaly_type == 'regime':\n",
    "                regime_feature = np.random.randint(0, n_features)\n",
    "                regime_point = np.random.randint(sequence_length//3, 2*sequence_length//3)\n",
    "                sequence[regime_point:, regime_feature] += np.random.uniform(10, 20)\n",
    "            anomaly_data.append(sequence)\n",
    "        else:\n",
    "            normal_data.append(sequence)\n",
    "    normal_data = np.array(normal_data)\n",
    "    anomaly_data = np.array(anomaly_data)\n",
    "    return normal_data, anomaly_data\n",
    "\n",
    "normal_sequences, anomaly_sequences = generate_emissions_data(\n",
    "    n_samples=10000, sequence_length=24, n_features=5\n",
    ")"
   ]
  },
  {
   "cell_type": "markdown",
   "id": "bbbe7e72",
   "metadata": {},
   "source": [
    "## Preprocess Data\n",
    "We scale the data to avoid exploding gradients and we split it into training, normal test, and anomaly test sets."
   ]
  },
  {
   "cell_type": "code",
   "execution_count": 47,
   "id": "2c0fb0b2",
   "metadata": {},
   "outputs": [],
   "source": [
    "def preprocess_data(normal_data, anomaly_data, train_split=0.8):\n",
    "    n_train = int(len(normal_data) * train_split)\n",
    "    train_data = normal_data[:n_train]\n",
    "    test_normal = normal_data[n_train:]\n",
    "    original_shape = train_data.shape\n",
    "    train_flat = train_data.reshape(-1, train_data.shape[-1])\n",
    "\n",
    "    scaler = StandardScaler()\n",
    "    train_scaled = scaler.fit_transform(train_flat)\n",
    "    train_scaled = train_scaled.reshape(original_shape)\n",
    "\n",
    "    test_normal_flat = test_normal.reshape(-1, test_normal.shape[-1])\n",
    "    test_normal_scaled = scaler.transform(test_normal_flat)\n",
    "    test_normal_scaled = test_normal_scaled.reshape(test_normal.shape)\n",
    "\n",
    "    anomaly_flat = anomaly_data.reshape(-1, anomaly_data.shape[-1])\n",
    "    anomaly_scaled = scaler.transform(anomaly_flat)\n",
    "    anomaly_scaled = anomaly_scaled.reshape(anomaly_data.shape)\n",
    "\n",
    "    train_tensor = torch.FloatTensor(train_scaled)\n",
    "    test_normal_tensor = torch.FloatTensor(test_normal_scaled)\n",
    "    anomaly_tensor = torch.FloatTensor(anomaly_scaled)\n",
    "    \n",
    "    return train_tensor, test_normal_tensor, anomaly_tensor, scaler\n",
    "\n",
    "train_data, test_normal_data, test_anomaly_data, data_scaler = preprocess_data(\n",
    "    normal_sequences, anomaly_sequences\n",
    ")"
   ]
  },
  {
   "cell_type": "markdown",
   "id": "ef658ab8",
   "metadata": {},
   "source": [
    "## LSTM Autoencoder Model\n"
   ]
  },
  {
   "cell_type": "code",
   "execution_count": 48,
   "id": "305b5208",
   "metadata": {},
   "outputs": [
    {
     "data": {
      "text/plain": [
       "=================================================================\n",
       "Layer (type:depth-idx)                   Param #\n",
       "=================================================================\n",
       "LSTM_Autoencoder                         --\n",
       "├─LSTM: 1-1                              51,456\n",
       "├─LSTM: 1-2                              51,456\n",
       "├─Linear: 1-3                            325\n",
       "├─Dropout: 1-4                           --\n",
       "=================================================================\n",
       "Total params: 103,237\n",
       "Trainable params: 103,237\n",
       "Non-trainable params: 0\n",
       "================================================================="
      ]
     },
     "execution_count": 48,
     "metadata": {},
     "output_type": "execute_result"
    }
   ],
   "source": [
    "class LSTM_Autoencoder(nn.Module):\n",
    "    def __init__(self, input_dim=5, hidden_dim=64, num_layers=2, dropout=0.2):\n",
    "        super(LSTM_Autoencoder, self).__init__()\n",
    "        self.input_dim = input_dim\n",
    "        self.hidden_dim = hidden_dim\n",
    "        self.num_layers = num_layers\n",
    "\n",
    "        self.encoder = nn.LSTM(\n",
    "            input_size=input_dim,\n",
    "            hidden_size=hidden_dim,\n",
    "            num_layers=num_layers,\n",
    "            batch_first=True,\n",
    "            dropout=dropout if num_layers > 1 else 0\n",
    "        )\n",
    "        \n",
    "        self.decoder = nn.LSTM(\n",
    "            input_size=input_dim,\n",
    "            hidden_size=hidden_dim,\n",
    "            num_layers=num_layers,\n",
    "            batch_first=True,\n",
    "            dropout=dropout if num_layers > 1 else 0\n",
    "        )\n",
    "\n",
    "        self.output_layer = nn.Linear(hidden_dim, input_dim)\n",
    "        self.dropout = nn.Dropout(dropout)\n",
    "        \n",
    "    def forward(self, x):\n",
    "        batch_size, seq_len, _ = x.size()\n",
    "        encoded_seq, (h_n, c_n) = self.encoder(x)\n",
    "        compressed_repr = h_n[-1]\n",
    "        decoder_input = torch.zeros(batch_size, seq_len, self.input_dim, device=x.device)\n",
    "        decoder_outputs, _ = self.decoder(decoder_input, (h_n, c_n))\n",
    "        reconstructed = self.output_layer(decoder_outputs)\n",
    "        return reconstructed, compressed_repr\n",
    "\n",
    "model = LSTM_Autoencoder(\n",
    "    input_dim=5,\n",
    "    hidden_dim=64,\n",
    "    num_layers=2,\n",
    "    dropout=0.2\n",
    ").to(device)\n",
    "\n",
    "from torchinfo import summary\n",
    "summary(model)"
   ]
  },
  {
   "cell_type": "markdown",
   "id": "9b91e0b0",
   "metadata": {},
   "source": [
    "## Train the Autoencoder\n",
    "Train the model on normal sequences using mean squared error loss."
   ]
  },
  {
   "cell_type": "code",
   "execution_count": 49,
   "id": "e49682ab",
   "metadata": {},
   "outputs": [
    {
     "name": "stdout",
     "output_type": "stream",
     "text": [
      "Epoch [10/50], Loss: 0.173341\n",
      "Epoch [20/50], Loss: 0.160426\n",
      "Epoch [30/50], Loss: 0.149792\n",
      "Epoch [40/50], Loss: 0.139798\n",
      "Epoch [50/50], Loss: 0.128795\n"
     ]
    }
   ],
   "source": [
    "def train_autoencoder(model, train_data, epochs=50, batch_size=32, learning_rate=0.001):\n",
    "    loss_fn = nn.MSELoss()\n",
    "    optimizer = optim.Adam(model.parameters(), lr=learning_rate, weight_decay=1e-5)\n",
    "    scheduler = optim.lr_scheduler.ReduceLROnPlateau(optimizer, patience=10, factor=0.5)\n",
    "\n",
    "    dataset = torch.utils.data.TensorDataset(train_data)\n",
    "    dataloader = torch.utils.data.DataLoader(\n",
    "        dataset, batch_size=batch_size, shuffle=True, drop_last=True\n",
    "    )\n",
    "\n",
    "    training_losses = []\n",
    "    model.train()\n",
    "    for epoch in range(epochs):\n",
    "        epoch_losses = []\n",
    "        for batch_idx, (batch_data,) in enumerate(dataloader):\n",
    "            batch_data = batch_data.to(device)\n",
    "            optimizer.zero_grad()\n",
    "            reconstructed, _ = model(batch_data)\n",
    "            loss = loss_fn(reconstructed, batch_data)\n",
    "            loss.backward()\n",
    "            #we clip the gradients to avoid exploding  gradients \n",
    "            torch.nn.utils.clip_grad_norm_(model.parameters(), max_norm=1.0)\n",
    "            optimizer.step()\n",
    "            epoch_losses.append(loss.item())\n",
    "\n",
    "        avg_loss = np.mean(epoch_losses)\n",
    "        training_losses.append(avg_loss)\n",
    "        scheduler.step(avg_loss)\n",
    "\n",
    "        if (epoch + 1) % 10 == 0:\n",
    "            print(f'Epoch [{epoch+1}/{epochs}], Loss: {avg_loss:.6f}')\n",
    "    return training_losses\n",
    "\n",
    "training_losses = train_autoencoder(\n",
    "    model, train_data, epochs=50, batch_size=32, learning_rate=0.001\n",
    ")"
   ]
  },
  {
   "cell_type": "markdown",
   "id": "7d86f239",
   "metadata": {},
   "source": [
    "## Detect Anomalies\n",
    "We compute reconstruction errors for both normal and anomalous sequences. A threshold (95% here) is used to flag anomalies."
   ]
  },
  {
   "cell_type": "code",
   "execution_count": 50,
   "id": "a5f73a4b",
   "metadata": {},
   "outputs": [
    {
     "name": "stdout",
     "output_type": "stream",
     "text": [
      "\n",
      "Anomaly Detection Results:\n",
      "Threshold: 0.1638\n",
      "Precision: 0.989\n",
      "Recall: 0.923\n",
      "F1-Score: 0.955\n"
     ]
    }
   ],
   "source": [
    "def detect_anomalies(model, normal_data, anomaly_data, threshold_percentile=95):\n",
    "\n",
    "    model.eval()\n",
    "    loss_fn = nn.MSELoss(reduction='none')\n",
    "\n",
    "    normal_errors = []\n",
    "    with torch.no_grad():\n",
    "        for i in range(0, len(normal_data), 32):\n",
    "            batch = normal_data[i:i+32].to(device)\n",
    "            reconstructed, _ = model(batch)\n",
    "            loss = loss_fn(reconstructed, batch).mean(dim=(1, 2))\n",
    "            normal_errors.extend(loss.cpu().numpy())\n",
    "\n",
    "    anomaly_errors = []\n",
    "    with torch.no_grad():\n",
    "        for i in range(0, len(anomaly_data), 32):\n",
    "            batch = anomaly_data[i:i+32].to(device)\n",
    "            reconstructed, _ = model(batch)\n",
    "            loss = loss_fn(reconstructed, batch).mean(dim=(1, 2))\n",
    "            anomaly_errors.extend(loss.cpu().numpy())\n",
    "            \n",
    "    threshold = np.percentile(normal_errors, threshold_percentile)\n",
    "    normal_predictions = np.array(normal_errors) > threshold\n",
    "    anomaly_predictions = np.array(anomaly_errors) > threshold\n",
    "\n",
    "    y_true = np.concatenate([np.zeros_like(normal_predictions), np.ones_like(anomaly_predictions)])\n",
    "    y_pred = np.concatenate([normal_predictions, anomaly_predictions])\n",
    "\n",
    "    precision = precision_score(y_true, y_pred)\n",
    "    recall = recall_score(y_true, y_pred)\n",
    "    f1_score_val = f1_score(y_true, y_pred)\n",
    "    results = {\n",
    "        'threshold': threshold,\n",
    "        'normal_errors': normal_errors,\n",
    "        'anomaly_errors': anomaly_errors,\n",
    "        'precision': precision,\n",
    "        'recall': recall,\n",
    "        'f1_score': f1_score_val,\n",
    "        'normal_predictions': normal_predictions,\n",
    "        'anomaly_predictions': anomaly_predictions\n",
    "    }\n",
    "    return results\n",
    "\n",
    "detection_results = detect_anomalies(model, test_normal_data, test_anomaly_data)\n",
    "\n",
    "print(f\"\\nAnomaly Detection Results:\")\n",
    "print(f\"Threshold: {detection_results['threshold']:.4f}\")\n",
    "print(f\"Precision: {detection_results['precision']:.3f}\")\n",
    "print(f\"Recall: {detection_results['recall']:.3f}\")\n",
    "print(f\"F1-Score: {detection_results['f1_score']:.3f}\")\n",
    "\n",
    "#95% of normal sequences are below the threshold , any sequence above it will be flagged as an anomaly "
   ]
  },
  {
   "cell_type": "markdown",
   "id": "9fbd6b00",
   "metadata": {},
   "source": [
    "## Visualize Training and Results\n",
    "Plot the training loss curve and the distribution of reconstruction errors for normal and anomalous sequences."
   ]
  },
  {
   "cell_type": "code",
   "execution_count": 77,
   "id": "562abdca",
   "metadata": {},
   "outputs": [
    {
     "data": {
      "image/png": "[encoded data removed]",
      "text/plain": [
       "<Figure size 1200x400 with 2 Axes>"
      ]
     },
     "metadata": {},
     "output_type": "display_data"
    }
   ],
   "source": [
    "plt.figure(figsize=(12, 4))\n",
    "plt.subplot(1, 2, 1)\n",
    "plt.plot(training_losses)\n",
    "plt.title('Training Loss Over Time')\n",
    "plt.xlabel('Epoch')\n",
    "plt.ylabel('MSE Loss')\n",
    "plt.grid(True)\n",
    "\n",
    "plt.subplot(1, 2, 2)\n",
    "plt.hist(detection_results['normal_errors'], bins=50, alpha=0.7, label='Normal', density=True)\n",
    "plt.hist(detection_results['anomaly_errors'], bins=50, alpha=0.7, label='Anomaly', density=True)\n",
    "plt.axvline(detection_results['threshold'], color='red', linestyle='--', label=f'Threshold ({detection_results[\"threshold\"]:.4f})')\n",
    "\n",
    "plt.xlabel('Reconstruction Error')\n",
    "plt.ylabel('Density')\n",
    "plt.title('Reconstruction Error Distribution')\n",
    "plt.legend()\n",
    "plt.grid(True)\n",
    "\n",
    "max_x = np.percentile(detection_results['anomaly_errors'], 10)\n",
    "plt.xlim(0, max_x)\n",
    "\n",
    "\n",
    "plt.tight_layout()\n",
    "plt.show()"
   ]
  }
 ],
 "metadata": {
  "kernelspec": {
   "display_name": "pytorch-test-env",
   "language": "python",
   "name": "python3"
  },
  "language_info": {
   "codemirror_mode": {
    "name": "ipython",
    "version": 3
   },
   "file_extension": ".py",
   "mimetype": "text/x-python",
   "name": "python",
   "nbconvert_exporter": "python",
   "pygments_lexer": "ipython3",
   "version": "3.13.3"
  }
 },
 "nbformat": 4,
 "nbformat_minor": 5
}
